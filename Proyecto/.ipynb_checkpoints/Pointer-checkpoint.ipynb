{
 "cells": [
  {
   "cell_type": "code",
   "execution_count": null,
   "id": "ce74ca9f",
   "metadata": {},
   "outputs": [],
   "source": [
    "import pyautogui\n",
    "import random\n",
    "import time\n",
    "\n",
    "# Get the screen size\n",
    "screen_size = pyautogui.size()\n",
    "\n",
    "# Get the active window\n",
    "active_window = pyautogui.getActiveWindow()\n",
    "\n",
    "print(\"Estoy ejecutandome, no me apague peggo\")\n",
    "\n",
    "# Create an infinite loop\n",
    "while True:\n",
    "\n",
    "    # Generate random x and abxy coordinates\n",
    "    x = random.randint(0, screen_size[0])\n",
    "    y = random.randint(0, screen_size[1])\n",
    "\n",
    "    # Move the mouse to the random coordinates\n",
    "    pyautogui.moveTo(x, y)\n",
    "\n",
    "    # Sleep for 10 seconds\n",
    "    time.sleep(10)\n",
    "\n",
    "    # Press any key\n",
    "    pyautogui.press([''])\n",
    "    "
   ]
  }
 ],
 "metadata": {
  "kernelspec": {
   "display_name": "Python 3 (ipykernel)",
   "language": "python",
   "name": "python3"
  },
  "language_info": {
   "codemirror_mode": {
    "name": "ipython",
    "version": 3
   },
   "file_extension": ".py",
   "mimetype": "text/x-python",
   "name": "python",
   "nbconvert_exporter": "python",
   "pygments_lexer": "ipython3",
   "version": "3.10.9"
  }
 },
 "nbformat": 4,
 "nbformat_minor": 5
}
