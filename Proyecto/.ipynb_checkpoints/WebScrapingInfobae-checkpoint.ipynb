{
 "cells": [
  {
   "cell_type": "markdown",
   "id": "2c20a657",
   "metadata": {},
   "source": [
    "## Parte 1: Recolección de información\n",
    "#### Web Scraping a la MOE para investigación de informes referentes a riegos pre electorales"
   ]
  },
  {
   "cell_type": "code",
   "execution_count": 1,
   "id": "66fb38bf",
   "metadata": {},
   "outputs": [],
   "source": [
    "# Importación de librerias\n",
    "from selenium import webdriver\n",
    "from selenium.webdriver.common.keys import Keys\n",
    "from selenium.webdriver.common.by import By\n",
    "from selenium.webdriver.chrome.options import Options\n",
    "from selenium.webdriver.chrome.service import Service\n",
    "from webdriver_manager.chrome import ChromeDriverManager\n",
    "from selenium.common.exceptions import NoSuchElementException\n",
    "from random import shuffle\n",
    "import matplotlib.pyplot as plt\n",
    "import pandas as pd\n",
    "import numpy as np\n",
    "import time\n",
    "import random\n",
    "\n",
    "# Opciones del navegador\n",
    "chrome_options = Options()\n",
    "chrome_options.add_argument('--no-sandbox')\n",
    "# chrome_options.add_argument('--headless')  \n",
    "chrome_options.add_argument('--window-size=1420,1080')\n",
    "chrome_options.add_argument('--disable-dev-shm-usage')\n",
    "chrome_options.add_argument('--disable-gpu')\n",
    "chrome_options.add_argument(\"--disable-notifications\")\n",
    "chrome_options.add_argument(\"--remote-debugging-port=9222\")\n",
    "chrome_options.add_experimental_option(\"excludeSwitches\", [\"enable-automation\"])\n",
    "chrome_options.add_experimental_option('useAutomationExtension', False)\n",
    "chrome_options.add_experimental_option(\"excludeSwitches\", [\"disable-popup-blocking\"])"
   ]
  },
  {
   "cell_type": "code",
   "execution_count": 2,
   "id": "f36df686",
   "metadata": {},
   "outputs": [],
   "source": [
    "# Clase para personalización\n",
    "class bcolors:\n",
    "    WARNING = '\\033[93m'\n",
    "    FAIL = '\\033[91m'\n",
    "\n",
    "# Control de errores\n",
    "try:   \n",
    "    # Definición de función\n",
    "    def Seconds(result):\n",
    "        hours = round(result/3600)\n",
    "        minutes = round((result - (hours * 3600))/60)\n",
    "        seconds = round(result - ((hours * 3600) + (minutes * 60)))\n",
    "        if seconds < 0: seconds = seconds*-1\n",
    "        if minutes < 0: minutes = minutes*-1\n",
    "        final_time = \"El sitema tardó: \" + str(hours) + \" horas \" + str(minutes) + \" minutos \" + str(seconds) + \" segundos en finalizar su ejeción\"\n",
    "        return final_time\n",
    "    \n",
    "except Exception as e: \n",
    "    print(bcolors.FAIL + \"Revisa el error => \", e) # Impresión del error personalizado"
   ]
  },
  {
   "cell_type": "code",
   "execution_count": 4,
   "id": "3e2c7871",
   "metadata": {},
   "outputs": [
    {
     "name": "stdout",
     "output_type": "stream",
     "text": [
      "¿Cuál es el riesgo pre electoral de su interés?: violencia en colombia\n",
      "Se inició el Web Scraping a 'europa press' del tema: 'violencia en colombia', por favor espere...\n"
     ]
    }
   ],
   "source": [
    "# Captura del tema de interés de la persona\n",
    "interest = input(\"¿Cuál es el riesgo pre electoral de su interés?: \")\n",
    "\n",
    "# Mensaje para visualización del inicio del proceso\n",
    "print(\"Se inició el Web Scraping a 'europa press' del tema: '\" + interest + \"', por favor espere...\")\n",
    "\n",
    "# Variable para definir el inicio de tiempo en ejecución\n",
    "start = time.time()\n",
    "\n",
    "# Acceso a la página\n",
    "driver = webdriver.Chrome(\n",
    "    service = Service(ChromeDriverManager().install()),\n",
    "    options = chrome_options\n",
    ")\n",
    "\n",
    "driver.get(\"https://www.europapress.es/buscador.aspx\")\n",
    "search_bar = driver.find_element(By.CSS_SELECTOR, \"input.buscador_CajaTexto\")\n",
    "search_bar.clear()\n",
    "search_bar.send_keys(interest)\n",
    "search_bar.send_keys(Keys.RETURN)"
   ]
  }
 ],
 "metadata": {
  "kernelspec": {
   "display_name": "Python 3 (ipykernel)",
   "language": "python",
   "name": "python3"
  },
  "language_info": {
   "codemirror_mode": {
    "name": "ipython",
    "version": 3
   },
   "file_extension": ".py",
   "mimetype": "text/x-python",
   "name": "python",
   "nbconvert_exporter": "python",
   "pygments_lexer": "ipython3",
   "version": "3.10.9"
  }
 },
 "nbformat": 4,
 "nbformat_minor": 5
}
