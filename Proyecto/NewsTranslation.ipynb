{
 "cells": [
  {
   "cell_type": "code",
   "execution_count": 3,
   "id": "08ed7baa",
   "metadata": {},
   "outputs": [
    {
     "name": "stdout",
     "output_type": "stream",
     "text": [
      "         Texto Texto_traducido\n",
      "0         Hola           Hello\n",
      "1  Cómo estás?    How are you?\n",
      "2        Adiós             Bye\n"
     ]
    }
   ],
   "source": [
    "import pandas as pd\n",
    "from googletrans import Translator\n",
    "\n",
    "# Crear un DataFrame de ejemplo\n",
    "data = {'Texto': ['Hola', 'Cómo estás?', 'Adiós']}\n",
    "df = pd.DataFrame(data)\n",
    "\n",
    "# Crear una instancia del traductor de Google\n",
    "translator = Translator(service_urls=['translate.google.com'])\n",
    "\n",
    "# Función para traducir el texto de español a inglés\n",
    "def translate_text(text):\n",
    "    translation = translator.translate(text, src='es', dest='en')\n",
    "    return translation.text\n",
    "\n",
    "# Aplicar la traducción a la columna 'Texto'\n",
    "df['Texto_traducido'] = df['Texto'].apply(translate_text)\n",
    "\n",
    "# Imprimir el DataFrame con la columna traducida\n",
    "print(df)"
   ]
  }
 ],
 "metadata": {
  "kernelspec": {
   "display_name": "Python 3 (ipykernel)",
   "language": "python",
   "name": "python3"
  },
  "language_info": {
   "codemirror_mode": {
    "name": "ipython",
    "version": 3
   },
   "file_extension": ".py",
   "mimetype": "text/x-python",
   "name": "python",
   "nbconvert_exporter": "python",
   "pygments_lexer": "ipython3",
   "version": "3.10.9"
  }
 },
 "nbformat": 4,
 "nbformat_minor": 5
}
