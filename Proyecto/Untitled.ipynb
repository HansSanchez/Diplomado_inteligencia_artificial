{
 "cells": [
  {
   "cell_type": "code",
   "execution_count": 3,
   "id": "d6eb72b6",
   "metadata": {},
   "outputs": [
    {
     "ename": "KeyboardInterrupt",
     "evalue": "",
     "output_type": "error",
     "traceback": [
      "\u001b[1;31m---------------------------------------------------------------------------\u001b[0m",
      "\u001b[1;31mKeyboardInterrupt\u001b[0m                         Traceback (most recent call last)",
      "Cell \u001b[1;32mIn[3], line 22\u001b[0m\n\u001b[0;32m     19\u001b[0m pyautogui\u001b[38;5;241m.\u001b[39mmoveTo(x, y)\n\u001b[0;32m     21\u001b[0m \u001b[38;5;66;03m# Sleep for 10 seconds\u001b[39;00m\n\u001b[1;32m---> 22\u001b[0m \u001b[43mtime\u001b[49m\u001b[38;5;241;43m.\u001b[39;49m\u001b[43msleep\u001b[49m\u001b[43m(\u001b[49m\u001b[38;5;241;43m10\u001b[39;49m\u001b[43m)\u001b[49m\n\u001b[0;32m     24\u001b[0m \u001b[38;5;66;03m# Press any key\u001b[39;00m\n\u001b[0;32m     25\u001b[0m pyautogui\u001b[38;5;241m.\u001b[39mpress([\u001b[38;5;124m'\u001b[39m\u001b[38;5;124ma\u001b[39m\u001b[38;5;124m'\u001b[39m, \u001b[38;5;124m'\u001b[39m\u001b[38;5;124mb\u001b[39m\u001b[38;5;124m'\u001b[39m, \u001b[38;5;124m'\u001b[39m\u001b[38;5;124mx\u001b[39m\u001b[38;5;124m'\u001b[39m])\n",
      "\u001b[1;31mKeyboardInterrupt\u001b[0m: "
     ]
    }
   ],
   "source": [
    "import pyautogui\n",
    "import random\n",
    "import time\n",
    "\n",
    "# Get the screen size\n",
    "screen_size = pyautogui.size()\n",
    "\n",
    "# Get the active window\n",
    "active_window = pyautogui.getActiveWindow()\n",
    "\n",
    "# Create an infinite loop\n",
    "while True:\n",
    "\n",
    "    # Generate random x and y coordinates\n",
    "    x = random.randint(0, screen_size[0])\n",
    "    y = random.randint(0, screen_size[1])\n",
    "\n",
    "    # Move the mouse to the random coordinates\n",
    "    pyautogui.moveTo(x, y)\n",
    "\n",
    "    # Sleep for 10 seconds\n",
    "    time.sleep(10)\n",
    "\n",
    "    # Press any key\n",
    "    pyautogui.press(['a', 'b', 'x'])"
   ]
  },
  {
   "cell_type": "code",
   "execution_count": null,
   "id": "454a130b",
   "metadata": {},
   "outputs": [],
   "source": []
  }
 ],
 "metadata": {
  "kernelspec": {
   "display_name": "Python 3 (ipykernel)",
   "language": "python",
   "name": "python3"
  },
  "language_info": {
   "codemirror_mode": {
    "name": "ipython",
    "version": 3
   },
   "file_extension": ".py",
   "mimetype": "text/x-python",
   "name": "python",
   "nbconvert_exporter": "python",
   "pygments_lexer": "ipython3",
   "version": "3.10.9"
  }
 },
 "nbformat": 4,
 "nbformat_minor": 5
}
