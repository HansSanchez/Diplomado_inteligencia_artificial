{
 "cells": [
  {
   "cell_type": "markdown",
   "id": "fa645106",
   "metadata": {},
   "source": [
    "## TAREA 7\n",
    "\n",
    "1. Busca ejemplos de diferentes tipos de creatividad según la científica cognitiva Margaret Boden,  los cuales corresponden a: Creatividad exploratoria, por combinación y creatividad transformadora. \n",
    "**Referencia bibliográfica: MARGARET, BODEN. La mente creativa. Mitos y Mecanismos Edit. Gedisa. Barcelona, 1994).**\n",
    "\n",
    "2. Menciona ejemplos aplicados de IA  existentes en la actualidad sobre estos tipos de creatividad.\n",
    "\n",
    "3. Respecto al primer Perceptrón, averigua y comprende un poco la conexión entre el modelo planteado teórico y la máquina física hecha. ¿Qué tipo de problemas resolvía el Mark I Perceptrón?\n",
    "\n",
    "4. De acuerdo al punto anterior,  realice un ejemplo de red neuronal, usando Tensorflow, que lo ilustre."
   ]
  },
  {
   "cell_type": "markdown",
   "id": "0add69ca",
   "metadata": {},
   "source": [
    "<h3>1. Tipos de creatividad según Margaret Boden</h3>"
   ]
  },
  {
   "cell_type": "markdown",
   "id": "a5fdac0f",
   "metadata": {},
   "source": [
    "<ul>\n",
    "    \n",
    "**Creatividad inspiracional y romántica:** estos son enfoques tradicionales que consideran la creatividad como un don o un talento excepcional.\n",
    "\n",
    "**Creatividad P.-creativa y H-creativa:** Estos términos se refieren a dos tipos de creatividad propuestos por Margaret Boden. El P.-creativo se refiere a las ideas y actuaciones creativas relacionadas con la historia personal de un individuo, mientras que el H-creativo se refiere a las ideas y actuaciones creativas relacionadas con la historia humana en general.\n",
    "\n",
    "**Creatividad científica:** Boden propone el estudio de la creatividad a través del sistema generativo, que utiliza datos y reglas para identificar y explorar los aspectos que preceden a las ideas creativas. Este enfoque se basa en el análisis científico de la creatividad.\n",
    "\n",
    "**Creatividad en las ciencias cognitivas:** La creatividad se aborda desde las ciencias cognitivas, que consideran que la creatividad está presente en todos los seres humanos y se basa en habilidades cognitivas ordinarias, como la observación, la memoria y el reconocimiento.\n",
    "\n",
    "**Creatividad en la inteligencia artificial:** El texto menciona que el sistema generativo propuesto por Boden se fundamenta en los principios de la Inteligencia Artificial y utiliza técnicas de procesamiento de información en paralelo y redes semánticas para representar y explorar los datos relacionados con la creatividad.\n",
    "</ul>\n",
    "\n",
    "Modelo Computacional de la Creatividad según Margaret Boden. (n.d.). 1Library.Co. Retrieved June 10, 2023, from https://1library.co/article/modelo-computacional-de-la-creatividad-seg%C3%BAn-margaret-boden.4yr2wooz"
   ]
  },
  {
   "cell_type": "markdown",
   "id": "c11b6f14",
   "metadata": {},
   "source": [
    "<h3>2. Ejemplos aplicados a la IA</h3>"
   ]
  },
  {
   "cell_type": "markdown",
   "id": "d8ec1202",
   "metadata": {},
   "source": [
    "<ul>\n",
    "\n",
    "**Creatividad inspiracional:** En este enfoque, la creatividad se considera como un don o una fuente de inspiración. Un ejemplo podría ser la generación de nuevas ideas para algoritmos de aprendizaje automático basados en la observación y el estudio de fenómenos naturales, como la estructura y el funcionamiento del cerebro humano.\n",
    "\n",
    "**Creatividad romántica:** Este enfoque destaca la creatividad como un talento excepcional. Un ejemplo podría ser el desarrollo de un algoritmo de IA capaz de componer música original en diferentes géneros y estilos, imitando la creatividad y el estilo de los compositores famosos.\n",
    "\n",
    "**Creatividad P.-creativa:** En este caso, la creatividad se relaciona con la historia personal de un individuo. Un ejemplo sería el diseño de un asistente virtual de IA que se adapte a las preferencias y necesidades específicas de cada usuario, utilizando técnicas de procesamiento del lenguaje natural y aprendizaje automático para personalizar la interacción y ofrecer recomendaciones personalizadas.\n",
    "\n",
    "**Creatividad H-creativa:** Esta forma de creatividad se centra en las ideas y actuaciones relacionadas con la historia humana en general. Un ejemplo podría ser el desarrollo de un chatbot de IA que sea capaz de mantener conversaciones sobre eventos históricos y responder preguntas sobre diferentes épocas y culturas, utilizando una base de datos de conocimiento histórico.\n",
    "\n",
    "**Creatividad científica:** En este enfoque, la creatividad se aborda desde una perspectiva científica y se utiliza para resolver problemas o descubrir nuevos conocimientos en el campo de la IA. Un ejemplo podría ser la aplicación de algoritmos genéticos para evolucionar y mejorar automáticamente los modelos de IA, encontrando soluciones óptimas en problemas complejos de optimización.\n",
    "\n",
    "**Creatividad en la inteligencia artificial:** La creatividad se aplica en la generación de nuevas ideas, enfoques y soluciones en el campo de la IA. Por ejemplo, se podría explorar la creación de algoritmos de generación de texto que sean capaces de producir contenido original y creativo, como historias, poesía o guiones de películas, utilizando técnicas de procesamiento del lenguaje natural y modelos generativos.\n",
    "</ul>\n",
    "\n",
    "Modelo Computacional de la Creatividad según Margaret Boden. (n.d.). 1Library.Co. Retrieved June 10, 2023, from https://1library.co/article/modelo-computacional-de-la-creatividad-seg%C3%BAn-margaret-boden.4yr2wooz"
   ]
  },
  {
   "cell_type": "markdown",
   "id": "8a2b805e",
   "metadata": {},
   "source": [
    "<h3>3. El primer Perceptrón de Mark I y su objetivo</h3>"
   ]
  },
  {
   "cell_type": "markdown",
   "id": "7f62edcf",
   "metadata": {},
   "source": [
    "<ul>\n",
    "\n",
    "El Mark I Perceptrón, desarrollado en base al Perceptrón original de Frank Rosenblatt, se construyó con el propósito específico de abordar el desafío de la clasificación de imágenes. Este problema consiste en enseñar a una máquina a reconocer y distinguir entre diferentes categorías de imágenes, en este caso, hombres y mujeres. Hasta ese momento, la capacidad de las máquinas para comprender y clasificar imágenes era limitada.\n",
    "\n",
    "Utilizando una arquitectura de perceptrón, el Mark I Perceptrón se convirtió en uno de los primeros intentos exitosos de desarrollar una máquina capaz de realizar esta tarea. A través del entrenamiento con cientos de fotografías de hombres y mujeres, el Mark I Perceptrón aprendió a reconocer los patrones visuales y realizar clasificaciones con una sorprendente precisión.\n",
    "\n",
    "Si bien es importante tener en cuenta que el Mark I Perceptrón solo podía aprender datos que permitieran una separación lineal, es decir, imágenes que se pudieran dividir claramente con una línea recta, este logro sentó las bases para futuros avances en la clasificación de imágenes y el procesamiento visual.\n",
    "\n",
    "En resumen, el Mark I Perceptrón resolvió el desafío de la clasificación de imágenes, permitiendo que una máquina pudiera reconocer y distinguir entre hombres y mujeres en fotografías. Este hito fue un paso crucial en el desarrollo de la inteligencia artificial y allanó el camino para futuros avances en el campo de la visión por computadora y el reconocimiento de patrones visuales.\n",
    "</ul>\n",
    "\n",
    "\n",
    "Ramírez, F. (2018, July 19). Historia de la IA: Frank Rosenblatt y el Mark I Perceptrón, el primer ordenador fabricado específicamente para crear redes neuronales en 1957. Think Big. <a href=\"https://empresas.blogthinkbig.com/historia-de-la-ia-frank-rosenblatt-y-e/\" target=\"_blank\">https://empresas.blogthinkbig.com/historia-de-la-ia-frank-rosenblatt-y-e/</a>\n"
   ]
  },
  {
   "cell_type": "markdown",
   "id": "38f1dced",
   "metadata": {},
   "source": [
    "<h3>4. Perceptrón de \"Creatividad científica\"</h3>"
   ]
  },
  {
   "cell_type": "markdown",
   "id": "d96a490a",
   "metadata": {},
   "source": [
    "El objetivo de este código es utilizar un perceptrón implementado con TensorFlow para clasificar noticias como verdaderas o falsas. El modelo se entrena con un conjunto de datos que contiene características de noticias y sus etiquetas correspondientes (verdadero o falso). Luego, el modelo se utiliza para predecir la clasificación de una nueva noticia basándose en sus características. El objetivo es lograr que el modelo aprenda a distinguir patrones en las características de las noticias y hacer predicciones precisas sobre su veracidad."
   ]
  },
  {
   "cell_type": "code",
   "execution_count": 1,
   "id": "2246a481",
   "metadata": {},
   "outputs": [
    {
     "name": "stdout",
     "output_type": "stream",
     "text": [
      "Epoch 1/10\n",
      "1/1 [==============================] - 1s 672ms/step - loss: 0.7994 - accuracy: 0.0000e+00\n",
      "Epoch 2/10\n",
      "1/1 [==============================] - 0s 6ms/step - loss: 0.7989 - accuracy: 0.0000e+00\n",
      "Epoch 3/10\n",
      "1/1 [==============================] - 0s 7ms/step - loss: 0.7984 - accuracy: 0.0000e+00\n",
      "Epoch 4/10\n",
      "1/1 [==============================] - 0s 14ms/step - loss: 0.7978 - accuracy: 0.0000e+00\n",
      "Epoch 5/10\n",
      "1/1 [==============================] - 0s 7ms/step - loss: 0.7973 - accuracy: 0.0000e+00\n",
      "Epoch 6/10\n",
      "1/1 [==============================] - 0s 7ms/step - loss: 0.7968 - accuracy: 0.0000e+00\n",
      "Epoch 7/10\n",
      "1/1 [==============================] - 0s 18ms/step - loss: 0.7963 - accuracy: 0.0000e+00\n",
      "Epoch 8/10\n",
      "1/1 [==============================] - 0s 6ms/step - loss: 0.7958 - accuracy: 0.0000e+00\n",
      "Epoch 9/10\n",
      "1/1 [==============================] - 0s 19ms/step - loss: 0.7952 - accuracy: 0.0000e+00\n",
      "Epoch 10/10\n",
      "1/1 [==============================] - 0s 8ms/step - loss: 0.7947 - accuracy: 0.0000e+00\n",
      "1/1 [==============================] - 0s 112ms/step\n",
      "La noticia es falsa\n"
     ]
    }
   ],
   "source": [
    "# Importación de librerías\n",
    "import tensorflow as tf\n",
    "from tensorflow import keras\n",
    "import numpy as np\n",
    "\n",
    "# Datos de entrenamiento\n",
    "x_train = np.array([\n",
    "    [0.8, 0.6, 0.4, 0.2],  # Características de una noticia verdadera\n",
    "    [0.2, 0.3, 0.1, 0.4]   # Características de una noticia falsa\n",
    "])\n",
    "y_train = np.array([1, 0])  # Etiquetas correspondientes a las noticias verdaderas y falsas\n",
    "\n",
    "# Normalizar los datos\n",
    "x_train = x_train / np.max(x_train)\n",
    "\n",
    "# Definir el modelo\n",
    "model = keras.Sequential([\n",
    "    keras.layers.Dense(1, activation='sigmoid', input_shape=(4,))\n",
    "])\n",
    "\n",
    "# Compilar el modelo\n",
    "model.compile(optimizer='adam', loss='binary_crossentropy', metrics=['accuracy'])\n",
    "\n",
    "# Entrenar el modelo\n",
    "model.fit(x_train, y_train, epochs=10)\n",
    "\n",
    "# Clasificación de una nueva noticia\n",
    "new_news = np.array([[0.7, 0.5, 0.3, 0.1]])  # Características de la nueva noticia\n",
    "new_news = new_news / np.max(new_news)  # Normalizar las características\n",
    "\n",
    "# Predicción del modelo\n",
    "prediction = model.predict(new_news)\n",
    "\n",
    "# Validación de la predicción obtenida\n",
    "if prediction >= 0.5:\n",
    "    print(\"La noticia es verdadera\")\n",
    "else:\n",
    "    print(\"La noticia es falsa\")"
   ]
  }
 ],
 "metadata": {
  "kernelspec": {
   "display_name": "Python 3 (ipykernel)",
   "language": "python",
   "name": "python3"
  },
  "language_info": {
   "codemirror_mode": {
    "name": "ipython",
    "version": 3
   },
   "file_extension": ".py",
   "mimetype": "text/x-python",
   "name": "python",
   "nbconvert_exporter": "python",
   "pygments_lexer": "ipython3",
   "version": "3.10.9"
  }
 },
 "nbformat": 4,
 "nbformat_minor": 5
}
