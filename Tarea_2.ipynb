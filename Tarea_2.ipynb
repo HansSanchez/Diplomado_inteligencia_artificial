{
 "cells": [
  {
   "cell_type": "markdown",
   "id": "35950638",
   "metadata": {},
   "source": [
    "# Tarea 2\n",
    "\n",
    "17/04/2023<br>\n",
    "Hans Yadiel Sánchez Mora<br>\n",
    "hanssanchez427@gmail.com<br>\n",
    "312 624 89 50"
   ]
  },
  {
   "cell_type": "markdown",
   "id": "a84911e3",
   "metadata": {},
   "source": [
    "# Parte 1\n",
    "\n",
    "**Tarea: Crear un programa que calcule el promedio de tres números ingresados por el usuario.**\n",
    "\n",
    "**Pasos:**\n",
    "1. Crea un nuevo cuaderno de JupyterLab. Guárdalo con un nombre descriptivo, como \"promedio.py\".\n",
    "2. Crea una variable para cada uno de los tres números que el usuario va a ingresar. Puedes nombrarlas como \"num1\", \"num2\" y \"num3\".\n",
    "3. Usa la función \"input\" para pedirle al usuario que ingrese el valor de cada variable. Puedes mostrar un mensaje indicando qué valor debe ingresar el usuario para cada variable.\n",
    "4. Usa la función \"float\" para convertir los valores ingresados por el usuario a números decimales.\n",
    "5. Calcula el promedio de los tres números usando la fórmula (num1 + num2 + num3) / 3.\n",
    "6. Usa la función \"print\" para mostrar el resultado del promedio en la pantalla. Puedes agregar un mensaje descriptivo para que el usuario sepa qué se está mostrando.\n",
    "7. Guarda el archivo y ejecútalo para verificar que el programa funciona correctamente.\n",
    "8. Si hay algún error en el programa, vuelve al código y revisa cada línea para encontrar y corregir el error.\n",
    "9. Una vez que el programa funciona correctamente, intenta modificarlo para calcular el promedio de más números, o para mostrar el resultado con un número determinado de decimales.\n"
   ]
  },
  {
   "cell_type": "code",
   "execution_count": 1,
   "id": "cc57ccbc",
   "metadata": {},
   "outputs": [
    {
     "name": "stdout",
     "output_type": "stream",
     "text": [
      "Ingrese el primer número: 5\n",
      "Ingrese el segundo número: 9\n",
      "Ingrese el tercer número: 8\n",
      "El promedio de los tres números ingresados es: 7.333333333333333\n"
     ]
    }
   ],
   "source": [
    "# Pedirle al usuario que ingrese los tres números\n",
    "num1 = float(input(\"Ingrese el primer número: \"))\n",
    "num2 = float(input(\"Ingrese el segundo número: \"))\n",
    "num3 = float(input(\"Ingrese el tercer número: \"))\n",
    "\n",
    "# Calcular el promedio\n",
    "promedio = (num1 + num2 + num3) / 3\n",
    "\n",
    "# Mostrar el resultado al usuario\n",
    "print(\"El promedio de los tres números ingresados es:\", promedio)"
   ]
  },
  {
   "cell_type": "markdown",
   "id": "92bfaf1e",
   "metadata": {},
   "source": [
    "# Parte 2\n",
    "\n",
    "\n",
    "**Pasos:**\n",
    "\n",
    "1. Modifica el código anterior para que en lugar de pedir al usuario que ingrese tres números, pida que ingrese una lista de números separados por comas. Puedes usar la función \"input\" para leer la entrada del usuario y la función \"split\" para separar los números en la lista.\n",
    "2. Calcula el promedio de la lista de números utilizando un bucle \"for\" para iterar sobre los elementos de la lista y sumarlos. Luego, divide la suma entre la longitud de la lista para obtener el promedio.\n",
    "3. Crea una nueva lista llamada \"mayores_al_promedio\" que contenga los números de la lista original que están por encima del promedio. Para hacer esto, utiliza un bucle \"for\" para iterar sobre los elementos de la lista y un condicional \"if\" para verificar si el número es mayor que el promedio.\n",
    "4. Muestra el resultado en la pantalla con un mensaje descriptivo. Puedes usar la función \"join\" para concatenar los números en la lista separados por comas."
   ]
  },
  {
   "cell_type": "code",
   "execution_count": 2,
   "id": "107a4ea1",
   "metadata": {},
   "outputs": [
    {
     "name": "stdout",
     "output_type": "stream",
     "text": [
      "Ingrese una lista de números separados por comas: 10,20,30,40,50,60,70,80,90,100\n",
      "La lista de números ingresada es: [10.0, 20.0, 30.0, 40.0, 50.0, 60.0, 70.0, 80.0, 90.0, 100.0]\n",
      "El promedio de los números es: 55.0\n",
      "Los números mayores que el promedio son: 60.0, 70.0, 80.0, 90.0, 100.0\n"
     ]
    }
   ],
   "source": [
    "# Pedirle al usuario que ingrese una lista de números separados por comas\n",
    "numeros = input(\"Ingrese una lista de números separados por comas: \")\n",
    "\n",
    "# Convertir la entrada del usuario en una lista de números\n",
    "numeros_lista = [float(num) for num in numeros.split(\",\")]\n",
    "\n",
    "# Calcular el promedio de la lista de números\n",
    "suma = 0\n",
    "for num in numeros_lista:\n",
    "    suma += num\n",
    "promedio = suma / len(numeros_lista)\n",
    "\n",
    "# Crear una lista de los números mayores que el promedio\n",
    "mayores_al_promedio = []\n",
    "for num in numeros_lista:\n",
    "    if num > promedio:\n",
    "        mayores_al_promedio.append(num)\n",
    "\n",
    "# Mostrar el resultado al usuario\n",
    "print(\"La lista de números ingresada es:\", numeros_lista)\n",
    "print(\"El promedio de los números es:\", promedio)\n",
    "print(\"Los números mayores que el promedio son:\", \", \".join(map(str, mayores_al_promedio)))"
   ]
  }
 ],
 "metadata": {
  "kernelspec": {
   "display_name": "Python 3 (ipykernel)",
   "language": "python",
   "name": "python3"
  },
  "language_info": {
   "codemirror_mode": {
    "name": "ipython",
    "version": 3
   },
   "file_extension": ".py",
   "mimetype": "text/x-python",
   "name": "python",
   "nbconvert_exporter": "python",
   "pygments_lexer": "ipython3",
   "version": "3.10.9"
  }
 },
 "nbformat": 4,
 "nbformat_minor": 5
}
