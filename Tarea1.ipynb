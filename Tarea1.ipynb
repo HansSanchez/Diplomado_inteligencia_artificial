{
 "cells": [
  {
   "cell_type": "markdown",
   "id": "378db2e9",
   "metadata": {},
   "source": [
    "# PARTE 1"
   ]
  },
  {
   "cell_type": "markdown",
   "id": "84ada1e6",
   "metadata": {},
   "source": [
    "**Instrucciones:**\n",
    "\n",
    "1. Instala Anaconda Navigator en tu PC ((582) Como instalar Anaconda en Windows - YouTube   ) - **LISTO**\n",
    "\n",
    "2. Abre Anaconda Navigator en tu ordenador y selecciona \"Jupyter Notebook\" en el menú. Se abrirá una nueva ventana de tu navegador web predeterminado con el panel de control de Jupyter Notebook. - **LISTO**\n",
    "\n",
    "3. Haz clic en \"New\" en la esquina superior derecha y selecciona \"Python 3\" para crear un nuevo cuaderno. - **LISTO**\n",
    "\n",
    "4. Añade un título al cuaderno y una imagen de un barco de tu preferencia. Seguidamente en una celda corre el siguiente código (donde se  importa la biblioteca de pandas y se lee  el  archivo CSV de datos del Titanic desde una url)."
   ]
  },
  {
   "cell_type": "markdown",
   "id": "7b9c4a08",
   "metadata": {},
   "source": [
    "<img src=\"https://upload.wikimedia.org/wikipedia/commons/thumb/f/fd/RMS_Titanic_3.jpg/1200px-RMS_Titanic_3.jpg\" width=\"500px\">"
   ]
  },
  {
   "cell_type": "code",
   "execution_count": 2,
   "id": "db5a44cf",
   "metadata": {},
   "outputs": [
    {
     "name": "stdout",
     "output_type": "stream",
     "text": [
      "   Survived  Pclass                                               Name  \\\n",
      "0         0       3                             Mr. Owen Harris Braund   \n",
      "1         1       1  Mrs. John Bradley (Florence Briggs Thayer) Cum...   \n",
      "2         1       3                              Miss. Laina Heikkinen   \n",
      "3         1       1        Mrs. Jacques Heath (Lily May Peel) Futrelle   \n",
      "4         0       3                            Mr. William Henry Allen   \n",
      "\n",
      "      Sex   Age  Siblings/Spouses Aboard  Parents/Children Aboard     Fare  \n",
      "0    male  22.0                        1                        0   7.2500  \n",
      "1  female  38.0                        1                        0  71.2833  \n",
      "2  female  26.0                        0                        0   7.9250  \n",
      "3  female  35.0                        1                        0  53.1000  \n",
      "4    male  35.0                        0                        0   8.0500  \n"
     ]
    }
   ],
   "source": [
    "import pandas as pd\n",
    "url = 'https://web.stanford.edu/class/archive/cs/cs109/cs109.1166/stuff/titanic.csv'\n",
    "df = pd.read_csv(url)\n",
    "print(df.head())"
   ]
  },
  {
   "cell_type": "markdown",
   "id": "591acb1c",
   "metadata": {},
   "source": [
    "5. Agrega una celda de texto debajo de la celda de código y agrega esta descripción del archivo de datos que has leído.\n",
    "\n",
    "\n",
    "El conjunto de datos de Titanic que se utiliza en este ejemplo contiene información sobre los pasajeros del famoso barco Titanic que se hundió en su viaje inaugural en 1912. Los datos fueron recopilados por el Dr. Thomas Nicholls y publicados originalmente en 1999.\n",
    "El conjunto de datos contiene información sobre 891 pasajeros, incluyendo su edad, sexo, clase de billete, tarifa, número de hermanos o cónyuges a bordo, número de padres o hijos a bordo, número de identificación del pasajero, si sobrevivió o no, entre otros.\n",
    "Este conjunto de datos se ha utilizado ampliamente en la comunidad de ciencia de datos para demostrar técnicas de limpieza, manipulación y análisis de datos, y también se ha utilizado para entrenar modelos de aprendizaje automático para predecir la supervivencia de los pasajeros del Titanic.\n",
    "\n",
    "6. En la siguiente celda de código, corre el código que se muestra a continuación, donde se utiliza la biblioteca de pandas para realizar algunas operaciones en los datos (filtrar datos, crear una nueva columna). Agrega una descripción debajo con una celda de texto que explique lo que se realizó con el código.\n"
   ]
  },
  {
   "cell_type": "code",
   "execution_count": 3,
   "id": "5867f30e",
   "metadata": {},
   "outputs": [
    {
     "name": "stdout",
     "output_type": "stream",
     "text": [
      "Index(['Survived', 'Pclass', 'Name', 'Sex', 'Age', 'Siblings/Spouses Aboard',\n",
      "       'Parents/Children Aboard', 'Fare'],\n",
      "      dtype='object')\n",
      "   Survived     Sex   Age\n",
      "0         0    male  22.0\n",
      "1         1  female  38.0\n",
      "2         1  female  26.0\n",
      "3         1  female  35.0\n",
      "4         0    male  35.0\n",
      "   Survived  Pclass                           Name   Sex   Age  \\\n",
      "0         0       3         Mr. Owen Harris Braund  male  22.0   \n",
      "4         0       3        Mr. William Henry Allen  male  35.0   \n",
      "5         0       3                Mr. James Moran  male  27.0   \n",
      "6         0       1         Mr. Timothy J McCarthy  male  54.0   \n",
      "7         0       3  Master. Gosta Leonard Palsson  male   2.0   \n",
      "\n",
      "   Siblings/Spouses Aboard  Parents/Children Aboard     Fare  \n",
      "0                        1                        0   7.2500  \n",
      "4                        0                        0   8.0500  \n",
      "5                        0                        0   8.4583  \n",
      "6                        0                        0  51.8625  \n",
      "7                        3                        1  21.0750  \n",
      "   Survived  Pclass                                               Name  \\\n",
      "0         0       3                             Mr. Owen Harris Braund   \n",
      "1         1       1  Mrs. John Bradley (Florence Briggs Thayer) Cum...   \n",
      "2         1       3                              Miss. Laina Heikkinen   \n",
      "3         1       1        Mrs. Jacques Heath (Lily May Peel) Futrelle   \n",
      "4         0       3                            Mr. William Henry Allen   \n",
      "\n",
      "      Sex   Age  Siblings/Spouses Aboard  Parents/Children Aboard     Fare  \\\n",
      "0    male  22.0                        1                        0   7.2500   \n",
      "1  female  38.0                        1                        0  71.2833   \n",
      "2  female  26.0                        0                        0   7.9250   \n",
      "3  female  35.0                        1                        0  53.1000   \n",
      "4    male  35.0                        0                        0   8.0500   \n",
      "\n",
      "   FamilySize  \n",
      "0           5  \n",
      "1           3  \n",
      "2           4  \n",
      "3           3  \n",
      "4           4  \n"
     ]
    }
   ],
   "source": [
    "# Seleccionar columnas específicas\n",
    "print(df.columns)\n",
    "\n",
    "df_subset = df[['Survived', 'Sex', 'Age']]\n",
    "print(df_subset.head())\n",
    "\n",
    "# Filtrar datos\n",
    "df_male = df[df['Sex'] == 'male']\n",
    "print(df_male.head())\n",
    "\n",
    "# Crear una nueva columna\n",
    "df['FamilySize'] = df['Siblings/Spouses Aboard'] + df['Pclass'] + 1\n",
    "print(df.head())"
   ]
  },
  {
   "cell_type": "markdown",
   "id": "0f6b13c9",
   "metadata": {},
   "source": [
    "7. Agrega una nueva celda de texto y agrega una imagen relacionada con el tema de tu cuaderno. Puedes buscar una imagen en línea o utilizar una de tu propia creación. Agrega un texto descriptivo debajo de la imagen.\n",
    "\n",
    "8. En la siguiente celda de código, corre el código que se muestra a continuación, donde se utiliza la biblioteca de Matplotlib para crear un gráfico que muestre los datos que has manipulado en la celda de código del paso 6 donde se incluye un título y etiquetas para los ejes x e y."
   ]
  },
  {
   "cell_type": "code",
   "execution_count": 4,
   "id": "1e5a4cc2",
   "metadata": {},
   "outputs": [
    {
     "data": {
      "image/png": "[encoded data removed]",
      "text/plain": [
       "<Figure size 432x288 with 1 Axes>"
      ]
     },
     "metadata": {
      "needs_background": "light"
     },
     "output_type": "display_data"
    }
   ],
   "source": [
    "import matplotlib.pyplot as plt \n",
    "# Contar el número de pasajeros masculinos y femeninos \n",
    "gender_counts = df['Sex'].value_counts() \n",
    "\n",
    "# Crear un gráfico de barras \n",
    "plt.bar(gender_counts.index, gender_counts.values) \n",
    "\n",
    "# Agregar etiquetas y título \n",
    "plt.xlabel('Sexo') \n",
    "plt.ylabel('Número de Pasajeros') \n",
    "plt.title('Número de pasajeros masculinos y femeninos en el Titanic') \n",
    "\n",
    "# Mostrar el gráfico \n",
    "plt.show()"
   ]
  },
  {
   "cell_type": "markdown",
   "id": "94792a7c",
   "metadata": {},
   "source": [
    "9. Agrega otra celda de texto con  la siguiente información.\n",
    "\n",
    "El gráfico de barras que se generó   representa el número de pasajeros masculinos y femeninos en el conjunto de datos del Titanic. En el eje x, se encuentran las dos categorías: \"male\" y \"female\", que representan los pasajeros hombres y mujeres, respectivamente. En el eje y, se encuentra el número de pasajeros correspondiente a cada categoría.\n",
    "El gráfico de barras es una forma efectiva de visualizar la distribución de una variable categórica (en este caso, el género) en un conjunto de datos. En este gráfico en particular, podemos observar que hay más pasajeros hombres que mujeres en el conjunto de datos del Titanic. Esto coincide con lo que sabemos de la historia del Titanic, donde había una mayor proporción de hombres a bordo del barco que de mujeres.\n",
    "El gráfico también tiene un título descriptivo y etiquetas claras para los ejes x e y, lo que facilita la interpretación de la información presentada en él\n",
    "\n",
    "10. En la siguiente celda de código, corre el código que se muestra a continuación donde se utiliza la biblioteca de NumPy para realizar algunas operaciones matemáticas en los datos (calcular la media, la desviación estándar o la varianza de los datos)"
   ]
  },
  {
   "cell_type": "code",
   "execution_count": 5,
   "id": "4c96ea4e",
   "metadata": {},
   "outputs": [
    {
     "name": "stdout",
     "output_type": "stream",
     "text": [
      "La media de edad de los pasajeros es:  29.471443066516347\n",
      "La desviación estándar de la edad de los pasajeros es:  14.113945671023176\n",
      "La varianza de la edad de los pasajeros es:  199.20346240459386\n"
     ]
    }
   ],
   "source": [
    "import numpy as np\n",
    "\n",
    "# Cálculo de la media de la edad de los pasajeros\n",
    "mean_age = np.mean(df['Age'])\n",
    "print(\"La media de edad de los pasajeros es: \", mean_age)\n",
    "\n",
    "# Cálculo de la desviación estándar de la edad de los pasajeros\n",
    "std_age = np.std(df['Age'])\n",
    "print(\"La desviación estándar de la edad de los pasajeros es: \", std_age)\n",
    "\n",
    "# Cálculo de la varianza de la edad de los pasajeros\n",
    "var_age = np.var(df['Age'])\n",
    "print(\"La varianza de la edad de los pasajeros es: \", var_age)"
   ]
  },
  {
   "cell_type": "markdown",
   "id": "7bd1c35c",
   "metadata": {},
   "source": [
    "11. Agrega otra celda de texto y explica las operaciones matemáticas que se realizaron.\n",
    "\n",
    "12. Agrega una nueva celda de texto y agrega un enlace a otra página web relacionada con el tema de tu cuaderno.\n",
    "\n",
    "- <a href=\"https://historia.nationalgeographic.com.es/a/historia-titanic-tragedia-barco-insumergible_16344\">El titanic, la historia completa del barco insumergible</a>\n",
    "\n",
    "13. Agrega otra celda de texto y explica por qué es importante para ti saber utilizar Jupyter Notebook y las bibliotecas de Python.\n",
    "\n",
    "Jupyter Notebook es una herramienta muy útil para programadores de Python ya que permite la creación de documentos interactivos que combinan código, visualizaciones y explicaciones enriquecidas con formato de texto, imágenes y video. Es una excelente forma de documentar y compartir tus proyectos, experimentos y análisis de datos de una manera clara y accesible.\n",
    "\n",
    "Por otro lado, Python cuenta con una gran cantidad de bibliotecas y módulos que ofrecen una amplia variedad de funcionalidades. Algunas de las bibliotecas más populares son NumPy, Pandas, Matplotlib, TensorFlow, Scikit-Learn, entre otras. Estas bibliotecas facilitan enormemente el trabajo de programación y análisis de datos, ya que ofrecen funciones y métodos específicos para realizar tareas comunes de una manera rápida y eficiente.\n",
    "\n",
    "Es importante saber utilizar estas herramientas ya que permiten a los programadores desarrollar proyectos y soluciones más avanzadas en menos tiempo, con menos errores y de una manera más colaborativa. Además, al estar basadas en lenguajes y herramientas abiertas, permiten una mayor accesibilidad y flexibilidad en la programación y el análisis de datos.\n",
    "\n",
    "En resumen, el uso de Jupyter Notebook y bibliotecas de Python es fundamental para programadores y analistas de datos ya que permite una mayor eficiencia, colaboración y accesibilidad en el desarrollo de proyectos y soluciones.\n",
    "\n",
    "14. Exporta tu cuaderno en formato HTML. Para hacerlo, haz clic en \"File\" en la barra de menú y selecciona \"Download as\" en el menú desplegable, luego selecciona \"HTML\" en el submenú y guarda tu archivo.\n",
    "\n",
    "15. Finalmente, sube el archivo HTML a una plataforma de almacenamiento en línea (como Google Drive o Dropbox) y comparte el enlace con tu profesor para recibir comentarios sobre tu trabajo.\n",
    "\n",
    "16. Replica los pasos  anteriores(4-13) en Google Colab (Google Colab), para ello debes abrir una cuenta de  Google en caso de que no la tengas.  Comparte el enlace del cuaderno de Google Colab."
   ]
  },
  {
   "cell_type": "markdown",
   "id": "2f6dd7c4",
   "metadata": {},
   "source": [
    "# PARTE 2"
   ]
  },
  {
   "cell_type": "markdown",
   "id": "cddcc4fc",
   "metadata": {},
   "source": [
    "# Título\n",
    "\n",
    "Desarrollo de un Chat Bot para la mejora la experiencia de los usuarios de la Registraduría Nacional del Estado Civil de Colombia **(Primera Fase)**.\n",
    "\n",
    "## **Objetivo:**\n",
    "\n",
    "El objetivo del proyecto es mejorar la experiencia del usuario al interactuar con la Registraduría Nacional del Estado Civil de Colombia a través de un Chat Bot. El Chat Bot permitirá a los usuarios realizar consultas y obtener información de manera rápida y eficiente, reduciendo el tiempo de espera y aumentando la satisfacción del usuario.\n",
    "\n",
    "## **Ideas centrales:**\n",
    "\n",
    "El Chat Bot para la Registraduría Nacional del Estado Civil de Colombia contará con las siguientes características:\n",
    "\n",
    "- Interacción amigable: El Chat Bot estará diseñado para brindar una experiencia de usuario agradable y accesible, utilizando un lenguaje claro y sencillo.\n",
    "\n",
    "- Consultas rápidas y eficientes: Los usuarios podrán realizar consultas y obtener información de manera inmediata, sin tener que esperar largos tiempos de respuesta.\n",
    "\n",
    "- Disponibilidad 24/7: El Chat Bot estará disponible las 24 horas del día, los 7 días de la semana, lo que permitirá a los usuarios realizar consultas en cualquier momento.\n",
    "\n",
    "## **Herramientas que se necesitarán:**\n",
    "\n",
    "Para el desarrollo del Chat Bot se requerirán las siguientes herramientas:\n",
    "\n",
    "- Plataforma de chat: Se utilizará una plataforma de chat para alojar el Chat Bot y permitir la interacción con los usuarios, para este caso especial se requiere hacer uso de algún Framework o Libería del lado del cliente final. Se considera viable el uso de *VueJs* para el lado del usuario que hará uso de esta implementación.\n",
    "\n",
    "- Lenguaje de programación: Se utilizará Python como lenguaje de programación principal para desarrollar el Chat Bot, sin embargo, se espera hacer uso de Rasa Framework el cual en una ocación pasada fue sugerido por el Dr. Alvaro Montenegro, por otro lado es necesario buscar el método o herramienta para conectarlo con la plataforma de chat.\n",
    "\n",
    "# **Mecanismo o fuente desde donde se obtendrán los datos:** \n",
    "\n",
    "Imágenes y documentos, los datos e información que utilizará el Chat Bot se obtendrán de las bases de datos de la Registraduría los cuales serán clave para generar un corpus para una primera versión."
   ]
  }
 ],
 "metadata": {
  "kernelspec": {
   "display_name": "Python 3 (ipykernel)",
   "language": "python",
   "name": "python3"
  },
  "language_info": {
   "codemirror_mode": {
    "name": "ipython",
    "version": 3
   },
   "file_extension": ".py",
   "mimetype": "text/x-python",
   "name": "python",
   "nbconvert_exporter": "python",
   "pygments_lexer": "ipython3",
   "version": "3.9.12"
  }
 },
 "nbformat": 4,
 "nbformat_minor": 5
}
